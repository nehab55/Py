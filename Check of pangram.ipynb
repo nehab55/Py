{
 "cells": [
  {
   "cell_type": "code",
   "execution_count": 7,
   "id": "322a4dab",
   "metadata": {},
   "outputs": [
    {
     "ename": "IndentationError",
     "evalue": "unexpected indent (3937981653.py, line 15)",
     "output_type": "error",
     "traceback": [
      "\u001b[1;36m  Cell \u001b[1;32mIn[7], line 15\u001b[1;36m\u001b[0m\n\u001b[1;33m    if unique_chars==string.ascii_lowercase:\u001b[0m\n\u001b[1;37m    ^\u001b[0m\n\u001b[1;31mIndentationError\u001b[0m\u001b[1;31m:\u001b[0m unexpected indent\n"
     ]
    }
   ],
   "source": [
    "import string\n",
    "\n",
    "def is_pangram(sentence):\n",
    "    # Convert the sentence to lowercase\n",
    "    sentence = sentence.lower()\n",
    "    \n",
    "    # Remove non-alphabetic characters from the sentence\n",
    "    sentence = ''.join(char for char in sentence if char.isalpha())\n",
    "    \n",
    "    # Create a set of unique characters in the sentence\n",
    "    unique_chars = set(sentence)\n",
    "    \n",
    "    # Check if the set of unique characters contains all alphabet characters\n",
    "    return\n",
    "if unique_chars==string.ascii_lowercase:\n",
    "            print(\"The input is a pangram.\")\n",
    "    \n",
    "        else:\n",
    "            print(\"The input is not a pangram.\")\n",
    "\n",
    "# Take input from the user\n",
    "user_input = input(\"Enter a sentence: \")\n",
    "\n"
   ]
  },
  {
   "cell_type": "code",
   "execution_count": null,
   "id": "13cb366e",
   "metadata": {},
   "outputs": [],
   "source": []
  }
 ],
 "metadata": {
  "kernelspec": {
   "display_name": "Python 3 (ipykernel)",
   "language": "python",
   "name": "python3"
  },
  "language_info": {
   "codemirror_mode": {
    "name": "ipython",
    "version": 3
   },
   "file_extension": ".py",
   "mimetype": "text/x-python",
   "name": "python",
   "nbconvert_exporter": "python",
   "pygments_lexer": "ipython3",
   "version": "3.10.9"
  }
 },
 "nbformat": 4,
 "nbformat_minor": 5
}
