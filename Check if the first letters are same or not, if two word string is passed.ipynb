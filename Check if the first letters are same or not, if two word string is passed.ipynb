{
 "cells": [
  {
   "cell_type": "code",
   "execution_count": 1,
   "id": "dcdc63e4",
   "metadata": {},
   "outputs": [
    {
     "name": "stdout",
     "output_type": "stream",
     "text": [
      "Enter a two-word string: rasta raat\n",
      "Both words begin with the same letter.\n"
     ]
    }
   ],
   "source": [
    "def same_starting_letter(words):\n",
    "    # Split the string into two words\n",
    "    word1, word2 = words.split()\n",
    "\n",
    "    # Check if both words begin with the same letter\n",
    "    return word1[0].lower() == word2[0].lower()\n",
    "\n",
    "# Example usage:\n",
    "two_word_string = input(\"Enter a two-word string: \")\n",
    "\n",
    "if same_starting_letter(two_word_string):\n",
    "    print(\"Both words begin with the same letter.\")\n",
    "else:\n",
    "    print(\"The words do not begin with the same letter.\")"
   ]
  },
  {
   "cell_type": "code",
   "execution_count": null,
   "id": "f36a9093",
   "metadata": {},
   "outputs": [],
   "source": []
  }
 ],
 "metadata": {
  "kernelspec": {
   "display_name": "Python 3 (ipykernel)",
   "language": "python",
   "name": "python3"
  },
  "language_info": {
   "codemirror_mode": {
    "name": "ipython",
    "version": 3
   },
   "file_extension": ".py",
   "mimetype": "text/x-python",
   "name": "python",
   "nbconvert_exporter": "python",
   "pygments_lexer": "ipython3",
   "version": "3.10.9"
  }
 },
 "nbformat": 4,
 "nbformat_minor": 5
}
