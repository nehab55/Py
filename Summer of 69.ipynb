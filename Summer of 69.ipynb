{
 "cells": [
  {
   "cell_type": "code",
   "execution_count": 3,
   "id": "76351caf",
   "metadata": {},
   "outputs": [
    {
     "name": "stdout",
     "output_type": "stream",
     "text": [
      "Enter numbers separated by spaces: 1 2 3 6 1 1 1 9\n",
      "Sum except sections between 6 and 9: 6\n"
     ]
    }
   ],
   "source": [
    "def sum_except_6_to_9(numbers):\n",
    "    total = 0\n",
    "    skip = False\n",
    "    \n",
    "\n",
    "\n",
    "    for num in numbers:\n",
    "        if num == 6:\n",
    "            skip = True\n",
    "        elif num == 9:\n",
    "            skip = False\n",
    "        elif not skip:\n",
    "            total += num\n",
    "    \n",
    "    return total\n",
    "\n",
    "# Take input from the user\n",
    "array = input(\"Enter numbers separated by spaces: \").split()\n",
    "array = [int(num) for num in array]  # Convert input strings to integers\n",
    "\n",
    "# Calculate sum except sections between 6 and 9\n",
    "result = sum_except_6_to_9(array)\n",
    "print(\"Sum except sections between 6 and 9:\", result)\n"
   ]
  },
  {
   "cell_type": "code",
   "execution_count": null,
   "id": "6dc18cd0",
   "metadata": {},
   "outputs": [],
   "source": []
  }
 ],
 "metadata": {
  "kernelspec": {
   "display_name": "Python 3 (ipykernel)",
   "language": "python",
   "name": "python3"
  },
  "language_info": {
   "codemirror_mode": {
    "name": "ipython",
    "version": 3
   },
   "file_extension": ".py",
   "mimetype": "text/x-python",
   "name": "python",
   "nbconvert_exporter": "python",
   "pygments_lexer": "ipython3",
   "version": "3.10.9"
  }
 },
 "nbformat": 4,
 "nbformat_minor": 5
}
