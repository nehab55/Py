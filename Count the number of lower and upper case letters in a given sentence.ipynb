{
 "cells": [
  {
   "cell_type": "code",
   "execution_count": 1,
   "id": "656a1e56",
   "metadata": {},
   "outputs": [
    {
     "name": "stdout",
     "output_type": "stream",
     "text": [
      "Enter a sentence: word Are Not good With me\n",
      "Lowercase words: 3\n",
      "Uppercase words: 0\n"
     ]
    }
   ],
   "source": [
    "def count_lower_upper_words(text):\n",
    "    # Split the text into words\n",
    "    words = text.split()\n",
    "\n",
    "    # Initialize counters\n",
    "    lower_count = 0\n",
    "    upper_count = 0\n",
    "\n",
    "    # Iterate through each word\n",
    "    for word in words:\n",
    "        # Check if the word is all lowercase\n",
    "        if word.islower():\n",
    "            lower_count += 1\n",
    "        # Check if the word is all uppercase\n",
    "        elif word.isupper():\n",
    "            upper_count += 1\n",
    "\n",
    "    return lower_count, upper_count\n",
    "\n",
    "# Take input from the user\n",
    "text = input(\"Enter a sentence: \")\n",
    "\n",
    "# Call the function with user input\n",
    "lower, upper = count_lower_upper_words(text)\n",
    "print(\"Lowercase words:\", lower)\n",
    "print(\"Uppercase words:\", upper)\n"
   ]
  },
  {
   "cell_type": "code",
   "execution_count": null,
   "id": "84242463",
   "metadata": {},
   "outputs": [],
   "source": []
  }
 ],
 "metadata": {
  "kernelspec": {
   "display_name": "Python 3 (ipykernel)",
   "language": "python",
   "name": "python3"
  },
  "language_info": {
   "codemirror_mode": {
    "name": "ipython",
    "version": 3
   },
   "file_extension": ".py",
   "mimetype": "text/x-python",
   "name": "python",
   "nbconvert_exporter": "python",
   "pygments_lexer": "ipython3",
   "version": "3.10.9"
  }
 },
 "nbformat": 4,
 "nbformat_minor": 5
}
