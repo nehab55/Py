{
 "cells": [
  {
   "cell_type": "code",
   "execution_count": 1,
   "id": "e825d4a0",
   "metadata": {},
   "outputs": [
    {
     "name": "stdout",
     "output_type": "stream",
     "text": [
      "Enter numbers separated by spaces (or 'stop' to exit): 33\n",
      "The array does not contain 3.\n",
      "Enter numbers separated by spaces (or 'stop' to exit): 3\n",
      "The array contains 3.\n",
      "Enter numbers separated by spaces (or 'stop' to exit): stop\n",
      "Exiting the program.\n"
     ]
    }
   ],
   "source": [
    "def contains_three(arr):\n",
    "    return 3 in arr\n",
    "\n",
    "while True:\n",
    "    # Accept user input for the array\n",
    "    arr_input = input(\"Enter numbers separated by spaces (or 'stop' to exit): \")\n",
    "    \n",
    "    # Check if the user wants to stop\n",
    "    if arr_input.lower() == 'stop':\n",
    "        print(\"Exiting the program.\")\n",
    "        break\n",
    "    \n",
    "    # Convert input to array\n",
    "    arr = list(map(int, arr_input.split()))\n",
    "    \n",
    "    # Check if the array contains 3\n",
    "    result = contains_three(arr)\n",
    "    \n",
    "    # Output the result\n",
    "    if result:\n",
    "        print(\"The array contains 3.\")\n",
    "    else:\n",
    "        print(\"The array does not contain 3.\")"
   ]
  },
  {
   "cell_type": "code",
   "execution_count": null,
   "id": "e5f3dcb5",
   "metadata": {},
   "outputs": [],
   "source": []
  }
 ],
 "metadata": {
  "kernelspec": {
   "display_name": "Python 3 (ipykernel)",
   "language": "python",
   "name": "python3"
  },
  "language_info": {
   "codemirror_mode": {
    "name": "ipython",
    "version": 3
   },
   "file_extension": ".py",
   "mimetype": "text/x-python",
   "name": "python",
   "nbconvert_exporter": "python",
   "pygments_lexer": "ipython3",
   "version": "3.10.9"
  }
 },
 "nbformat": 4,
 "nbformat_minor": 5
}
