{
 "cells": [
  {
   "cell_type": "code",
   "execution_count": 1,
   "id": "a3e059ae",
   "metadata": {},
   "outputs": [
    {
     "name": "stdout",
     "output_type": "stream",
     "text": [
      "Enter a string: abc\n",
      "Paper doll version: aaabbbccc\n"
     ]
    }
   ],
   "source": [
    "def paper_doll(text):\n",
    "    result = ''\n",
    "    for char in text:\n",
    "        result += char * 3\n",
    "    return result\n",
    "\n",
    "# Example usage:\n",
    "text = input(\"Enter a string: \")\n",
    "print(\"Paper doll version:\", paper_doll(text))\n"
   ]
  },
  {
   "cell_type": "code",
   "execution_count": null,
   "id": "b11a2e79",
   "metadata": {},
   "outputs": [],
   "source": []
  }
 ],
 "metadata": {
  "kernelspec": {
   "display_name": "Python 3 (ipykernel)",
   "language": "python",
   "name": "python3"
  },
  "language_info": {
   "codemirror_mode": {
    "name": "ipython",
    "version": 3
   },
   "file_extension": ".py",
   "mimetype": "text/x-python",
   "name": "python",
   "nbconvert_exporter": "python",
   "pygments_lexer": "ipython3",
   "version": "3.10.9"
  }
 },
 "nbformat": 4,
 "nbformat_minor": 5
}
